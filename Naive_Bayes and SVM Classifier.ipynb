{
 "cells": [
  {
   "cell_type": "code",
   "execution_count": 12,
   "metadata": {
    "collapsed": true
   },
   "outputs": [],
   "source": [
    "%matplotlib inline\n",
    "import matplotlib.pyplot as plt\n",
    "import csv\n",
    "from textblob import TextBlob\n",
    "import pandas\n",
    "import sklearn\n",
    "import cPickle\n",
    "import numpy as np\n",
    "from sklearn.feature_extraction.text import CountVectorizer, TfidfTransformer\n",
    "from sklearn.naive_bayes import MultinomialNB\n",
    "from sklearn.svm import SVC, LinearSVC\n",
    "from sklearn.metrics import classification_report, f1_score, accuracy_score, confusion_matrix\n",
    "from sklearn.pipeline import Pipeline\n",
    "from sklearn.grid_search import GridSearchCV\n",
    "from sklearn.cross_validation import StratifiedKFold, cross_val_score, train_test_split \n",
    "from sklearn.tree import DecisionTreeClassifier \n",
    "from sklearn.learning_curve import learning_curve"
   ]
  },
  {
   "cell_type": "code",
   "execution_count": 13,
   "metadata": {
    "collapsed": false
   },
   "outputs": [
    {
     "name": "stdout",
     "output_type": "stream",
     "text": [
      "     label                                            message\n",
      "0     type                                               text\n",
      "1      ham  Go until jurong point, crazy.. Available only ...\n",
      "2      ham                      Ok lar... Joking wif u oni...\n",
      "3     spam  Free entry in 2 a wkly comp to win FA Cup fina...\n",
      "4      ham  U dun say so early hor... U c already then say...\n",
      "5      ham  Nah I don't think he goes to usf, he lives aro...\n",
      "6     spam  FreeMsg Hey there darling it's been 3 week's n...\n",
      "7      ham  Even my brother is not like to speak with me. ...\n",
      "8      ham  As per your request 'Melle Melle (Oru Minnamin...\n",
      "9     spam  WINNER!! As a valued network customer you have...\n",
      "10    spam  Had your mobile 11 months or more? U R entitle...\n",
      "11     ham  I'm gonna be home soon and i don't want to tal...\n",
      "12    spam  SIX chances to win CASH! From 100 to 20,000 po...\n",
      "13    spam  URGENT! You have won a 1 week FREE membership ...\n",
      "14     ham  I've been searching for the right words to tha...\n",
      "15     ham                I HAVE A DATE ON SUNDAY WITH WILL!!\n",
      "16    spam  XXXMobileMovieClub: To use your credit, click ...\n",
      "17     ham                         Oh k...i'm watching here:)\n",
      "18     ham  Eh u remember how 2 spell his name... Yes i di...\n",
      "19     ham  Fine if that's the way u feel. That's the way ...\n",
      "20    spam  England v Macedonia - dont miss the goals/team...\n",
      "21     ham          Is that seriously how you spell his name?\n",
      "22     ham    I‘m going to try for 2 months ha ha only joking\n",
      "23     ham  So ü pay first lar... Then when is da stock co...\n",
      "24     ham  Aft i finish my lunch then i go str down lor. ...\n",
      "25     ham  Ffffffffff. Alright no way I can meet up with ...\n",
      "26     ham  Just forced myself to eat a slice. I'm really ...\n",
      "27     ham                     Lol your always so convincing.\n",
      "28     ham  Did you catch the bus ? Are you frying an egg ...\n",
      "29     ham  I'm back &amp; we're packing the car now, I'll...\n",
      "...    ...                                                ...\n",
      "5545   ham           Armand says get your ass over to epsilon\n",
      "5546   ham             U still havent got urself a jacket ah?\n",
      "5547   ham  I'm taking derek &amp; taylor to walmart, if I...\n",
      "5548   ham      Hi its in durban are you still on this number\n",
      "5549   ham         Ic. There are a lotta childporn cars then.\n",
      "5550  spam  Had your contract mobile 11 Mnths? Latest Moto...\n",
      "5551   ham                 No, I was trying it all weekend ;V\n",
      "5552   ham  You know, wot people wear. T shirts, jumpers, ...\n",
      "5553   ham        Cool, what time you think you can get here?\n",
      "5554   ham  Wen did you get so spiritual and deep. That's ...\n",
      "5555   ham  Have a safe trip to Nigeria. Wish you happines...\n",
      "5556   ham                        Hahaha..use your brain dear\n",
      "5557   ham  Well keep in mind I've only got enough gas for...\n",
      "5558   ham  Yeh. Indians was nice. Tho it did kane me off ...\n",
      "5559   ham  Yes i have. So that's why u texted. Pshew...mi...\n",
      "5560   ham  No. I meant the calculation is the same. That ...\n",
      "5561   ham                             Sorry, I'll call later\n",
      "5562   ham  if you aren't here in the next  &lt;#&gt;  hou...\n",
      "5563   ham                  Anything lor. Juz both of us lor.\n",
      "5564   ham  Get me out of this dump heap. My mom decided t...\n",
      "5565   ham  Ok lor... Sony ericsson salesman... I ask shuh...\n",
      "5566   ham                                Ard 6 like dat lor.\n",
      "5567   ham  Why don't you wait 'til at least wednesday to ...\n",
      "5568   ham                                       Huh y lei...\n",
      "5569  spam  REMINDER FROM O2: To get 2.50 pounds free call...\n",
      "5570  spam  This is the 2nd time we have tried 2 contact u...\n",
      "5571   ham               Will ü b going to esplanade fr home?\n",
      "5572   ham  Pity, * was in mood for that. So...any other s...\n",
      "5573   ham  The guy did some bitching but I acted like i'd...\n",
      "5574   ham                         Rofl. Its true to its name\n",
      "\n",
      "[5575 rows x 2 columns]\n"
     ]
    }
   ],
   "source": [
    "## loading data using Pandas\n",
    "\n",
    "messages = pandas.read_csv('C:\\Users\\dell\\Documents\\Python Scripts\\sms_spam.csv', names=[\"label\", \"message\"])\n",
    "print messages"
   ]
  },
  {
   "cell_type": "code",
   "execution_count": 14,
   "metadata": {
    "collapsed": false
   },
   "outputs": [
    {
     "data": {
      "text/html": [
       "<div>\n",
       "<table border=\"1\" class=\"dataframe\">\n",
       "  <thead>\n",
       "    <tr style=\"text-align: right;\">\n",
       "      <th></th>\n",
       "      <th></th>\n",
       "      <th>message</th>\n",
       "    </tr>\n",
       "    <tr>\n",
       "      <th>label</th>\n",
       "      <th></th>\n",
       "      <th></th>\n",
       "    </tr>\n",
       "  </thead>\n",
       "  <tbody>\n",
       "    <tr>\n",
       "      <th rowspan=\"4\" valign=\"top\">ham</th>\n",
       "      <th>count</th>\n",
       "      <td>4827</td>\n",
       "    </tr>\n",
       "    <tr>\n",
       "      <th>unique</th>\n",
       "      <td>4518</td>\n",
       "    </tr>\n",
       "    <tr>\n",
       "      <th>top</th>\n",
       "      <td>Sorry, I'll call later</td>\n",
       "    </tr>\n",
       "    <tr>\n",
       "      <th>freq</th>\n",
       "      <td>30</td>\n",
       "    </tr>\n",
       "    <tr>\n",
       "      <th rowspan=\"4\" valign=\"top\">spam</th>\n",
       "      <th>count</th>\n",
       "      <td>747</td>\n",
       "    </tr>\n",
       "    <tr>\n",
       "      <th>unique</th>\n",
       "      <td>642</td>\n",
       "    </tr>\n",
       "    <tr>\n",
       "      <th>top</th>\n",
       "      <td>Please call our customer service representativ...</td>\n",
       "    </tr>\n",
       "    <tr>\n",
       "      <th>freq</th>\n",
       "      <td>4</td>\n",
       "    </tr>\n",
       "    <tr>\n",
       "      <th rowspan=\"4\" valign=\"top\">type</th>\n",
       "      <th>count</th>\n",
       "      <td>1</td>\n",
       "    </tr>\n",
       "    <tr>\n",
       "      <th>unique</th>\n",
       "      <td>1</td>\n",
       "    </tr>\n",
       "    <tr>\n",
       "      <th>top</th>\n",
       "      <td>text</td>\n",
       "    </tr>\n",
       "    <tr>\n",
       "      <th>freq</th>\n",
       "      <td>1</td>\n",
       "    </tr>\n",
       "  </tbody>\n",
       "</table>\n",
       "</div>"
      ],
      "text/plain": [
       "                                                        message\n",
       "label                                                          \n",
       "ham   count                                                4827\n",
       "      unique                                               4518\n",
       "      top                                Sorry, I'll call later\n",
       "      freq                                                   30\n",
       "spam  count                                                 747\n",
       "      unique                                                642\n",
       "      top     Please call our customer service representativ...\n",
       "      freq                                                    4\n",
       "type  count                                                   1\n",
       "      unique                                                  1\n",
       "      top                                                  text\n",
       "      freq                                                    1"
      ]
     },
     "execution_count": 14,
     "metadata": {},
     "output_type": "execute_result"
    }
   ],
   "source": [
    "## To get pivot of dataset\n",
    "\n",
    "messages.groupby('label').describe()"
   ]
  },
  {
   "cell_type": "code",
   "execution_count": 15,
   "metadata": {
    "collapsed": false
   },
   "outputs": [
    {
     "name": "stdout",
     "output_type": "stream",
     "text": [
      "  label                                            message  length\n",
      "0  type                                               text       4\n",
      "1   ham  Go until jurong point, crazy.. Available only ...     111\n",
      "2   ham                      Ok lar... Joking wif u oni...      29\n",
      "3  spam  Free entry in 2 a wkly comp to win FA Cup fina...     155\n",
      "4   ham  U dun say so early hor... U c already then say...      49\n"
     ]
    }
   ],
   "source": [
    "## adding extra column to get the length of the text\n",
    "\n",
    "messages['length'] = messages['message'].map(lambda text: len(text))\n",
    "print messages.head()"
   ]
  },
  {
   "cell_type": "code",
   "execution_count": 16,
   "metadata": {
    "collapsed": false
   },
   "outputs": [
    {
     "data": {
      "text/plain": [
       "count    5575.000000\n",
       "mean       80.549955\n",
       "std        59.911201\n",
       "min         2.000000\n",
       "25%        36.000000\n",
       "50%        62.000000\n",
       "75%       122.000000\n",
       "max       910.000000\n",
       "Name: length, dtype: float64"
      ]
     },
     "execution_count": 16,
     "metadata": {},
     "output_type": "execute_result"
    },
    {
     "data": {
      "image/png": "[encoded data removed]",
      "text/plain": [
       "<matplotlib.figure.Figure at 0x1219fdd8>"
      ]
     },
     "metadata": {},
     "output_type": "display_data"
    }
   ],
   "source": [
    "## plotting\n",
    "\n",
    "messages.length.plot(bins=20, kind='hist')\n",
    "\n",
    "messages.length.describe()"
   ]
  },
  {
   "cell_type": "code",
   "execution_count": 17,
   "metadata": {
    "collapsed": false
   },
   "outputs": [
    {
     "name": "stdout",
     "output_type": "stream",
     "text": [
      "[\"For me the love should start with attraction.i should feel that I need her every time around me.she should be the first thing which comes in my thoughts.I would start the day and end it with her.she should be there every time I dream.love will be then when my every breath has her name.my life should happen around her.my life will be named to her.I would cry for her.will give all my happiness and take all her sorrows.I will be ready to fight with anyone for her.I will be in love when I will be doing the craziest things for her.love will be when I don't have to proove anyone that my girl is the most beautiful lady on the whole planet.I will always be singing praises for her.love will be when I start up making chicken curry and end up makiing sambar.life will be the most beautiful then.will get every morning and thank god for the day because she is with me.I would like to say a lot..will tell later..\"]\n"
     ]
    }
   ],
   "source": [
    "## to check the longest messages\n",
    "\n",
    "print list(messages.message[messages.length > 900])"
   ]
  },
  {
   "cell_type": "code",
   "execution_count": 18,
   "metadata": {
    "collapsed": false
   },
   "outputs": [
    {
     "data": {
      "text/plain": [
       "array([[<matplotlib.axes._subplots.AxesSubplot object at 0x00000000124ADEB8>,\n",
       "        <matplotlib.axes._subplots.AxesSubplot object at 0x00000000125D68D0>],\n",
       "       [<matplotlib.axes._subplots.AxesSubplot object at 0x0000000012693EB8>,\n",
       "        <matplotlib.axes._subplots.AxesSubplot object at 0x0000000012785860>]], dtype=object)"
      ]
     },
     "execution_count": 18,
     "metadata": {},
     "output_type": "execute_result"
    },
    {
     "data": {
      "image/png": "[encoded data removed]",
      "text/plain": [
       "<matplotlib.figure.Figure at 0x123889e8>"
      ]
     },
     "metadata": {},
     "output_type": "display_data"
    }
   ],
   "source": [
    "## checking out the difference between ham and spam\n",
    "\n",
    "messages.hist(column='length', by='label', bins=50)"
   ]
  },
  {
   "cell_type": "code",
   "execution_count": 19,
   "metadata": {
    "collapsed": true
   },
   "outputs": [],
   "source": [
    "## Data Preprocessing\n",
    "\n",
    "## we'll use the bag-of-words approach, where each unique word in a text will be represented by one number.\n",
    "\n",
    "## splitting it into tokens\n",
    "\n",
    "def split_into_tokens(message):\n",
    "    message = unicode(message, 'utf8')  # convert bytes into proper unicode\n",
    "    return TextBlob(message).words\n"
   ]
  },
  {
   "cell_type": "code",
   "execution_count": 20,
   "metadata": {
    "collapsed": false
   },
   "outputs": [
    {
     "data": {
      "text/plain": [
       "0                                                 text\n",
       "1    Go until jurong point, crazy.. Available only ...\n",
       "2                        Ok lar... Joking wif u oni...\n",
       "3    Free entry in 2 a wkly comp to win FA Cup fina...\n",
       "4    U dun say so early hor... U c already then say...\n",
       "Name: message, dtype: object"
      ]
     },
     "execution_count": 20,
     "metadata": {},
     "output_type": "execute_result"
    }
   ],
   "source": [
    "## original text\n",
    "\n",
    "messages.message.head()"
   ]
  },
  {
   "cell_type": "code",
   "execution_count": 21,
   "metadata": {
    "collapsed": false
   },
   "outputs": [
    {
     "data": {
      "text/plain": [
       "0                                               [text]\n",
       "1    [Go, until, jurong, point, crazy, Available, o...\n",
       "2                       [Ok, lar, Joking, wif, u, oni]\n",
       "3    [Free, entry, in, 2, a, wkly, comp, to, win, F...\n",
       "4    [U, dun, say, so, early, hor, U, c, already, t...\n",
       "Name: message, dtype: object"
      ]
     },
     "execution_count": 21,
     "metadata": {},
     "output_type": "execute_result"
    }
   ],
   "source": [
    "## now text after tokenized\n",
    "\n",
    "messages.message.head().apply(split_into_tokens)"
   ]
  },
  {
   "cell_type": "code",
   "execution_count": 22,
   "metadata": {
    "collapsed": false
   },
   "outputs": [
    {
     "data": {
      "text/plain": [
       "[('Hello', u'NNP'),\n",
       " ('world', u'NN'),\n",
       " ('how', u'WRB'),\n",
       " ('is', u'VBZ'),\n",
       " ('it', u'PRP'),\n",
       " ('going', u'VBG')]"
      ]
     },
     "execution_count": 22,
     "metadata": {},
     "output_type": "execute_result"
    }
   ],
   "source": [
    "## Part of speech tag (POS)\n",
    "\n",
    "TextBlob(\"Hello world, how is it going?\").tags  # list of (word, POS) pairs"
   ]
  },
  {
   "cell_type": "code",
   "execution_count": 23,
   "metadata": {
    "collapsed": false
   },
   "outputs": [
    {
     "data": {
      "text/plain": [
       "0                                               [text]\n",
       "1    [go, until, jurong, point, crazy, available, o...\n",
       "2                       [ok, lar, joking, wif, u, oni]\n",
       "3    [free, entry, in, 2, a, wkly, comp, to, win, f...\n",
       "4    [u, dun, say, so, early, hor, u, c, already, t...\n",
       "Name: message, dtype: object"
      ]
     },
     "execution_count": 23,
     "metadata": {},
     "output_type": "execute_result"
    }
   ],
   "source": [
    "## lemmatizing --- normalize words into their base form\n",
    "\n",
    "def split_into_lemmas(message):\n",
    "    message = unicode(message, 'utf8').lower()\n",
    "    words = TextBlob(message).words\n",
    "    # for each word, take its \"base form\" = lemma \n",
    "    return [word.lemma for word in words]\n",
    "\n",
    "messages.message.head().apply(split_into_lemmas)"
   ]
  },
  {
   "cell_type": "code",
   "execution_count": 24,
   "metadata": {
    "collapsed": false
   },
   "outputs": [
    {
     "name": "stdout",
     "output_type": "stream",
     "text": [
      "8856\n"
     ]
    }
   ],
   "source": [
    "## Data to Vectors\n",
    "\n",
    "# Now we'll convert each message, represented as a list of tokens (lemmas) above, \n",
    "# into a vector that machine learning models can understand.\n",
    "\n",
    "# Doing that requires essentially three steps, in the bag-of-words model:\n",
    "\n",
    "# 1. counting how many times does a word occur in each message (term frequency)\n",
    "# 2. weighting the counts, so that frequent tokens get lower weight (inverse document frequency)\n",
    "# 3. normalizing the vectors to unit length, to abstract from the original text length (L2 norm)\n",
    "\n",
    "# Each vector has as many dimensions as there are unique words in the SMS corpus:\n",
    "\n",
    "bow_transformer = CountVectorizer(analyzer=split_into_lemmas).fit(messages['message'])\n",
    "print len(bow_transformer.vocabulary_)\n"
   ]
  },
  {
   "cell_type": "code",
   "execution_count": 25,
   "metadata": {
    "collapsed": false
   },
   "outputs": [
    {
     "name": "stdout",
     "output_type": "stream",
     "text": [
      "Free entry in 2 a wkly comp to win FA Cup final tkts 21st May 2005. Text FA to 87121 to receive entry question(std txt rate)T&C's apply 08452810075over18's\n"
     ]
    }
   ],
   "source": [
    "# Here we used `scikit-learn` (`sklearn`), a powerful Python library for teaching machine learning. \n",
    "# It contains a multitude of various methods and options.\n",
    "\n",
    "# Let's take one text message and get its bag-of-words counts as a vector, putting to use our new `bow_transformer`:\n",
    "\n",
    "## Feature Engineering\n",
    "\n",
    "message4 = messages['message'][3]\n",
    "print message4"
   ]
  },
  {
   "cell_type": "code",
   "execution_count": 26,
   "metadata": {
    "collapsed": false
   },
   "outputs": [
    {
     "name": "stdout",
     "output_type": "stream",
     "text": [
      "  (0, 23)\t2\n",
      "  (0, 105)\t1\n",
      "  (0, 454)\t1\n",
      "  (0, 474)\t1\n",
      "  (0, 486)\t1\n",
      "  (0, 895)\t1\n",
      "  (0, 950)\t1\n",
      "  (0, 1274)\t1\n",
      "  (0, 1900)\t1\n",
      "  (0, 2266)\t1\n",
      "  (0, 2478)\t1\n",
      "  (0, 3042)\t2\n",
      "  (0, 3173)\t2\n",
      "  (0, 3283)\t1\n",
      "  (0, 3433)\t1\n",
      "  (0, 4179)\t1\n",
      "  (0, 5018)\t1\n",
      "  (0, 6286)\t1\n",
      "  (0, 6339)\t1\n",
      "  (0, 6397)\t1\n",
      "  (0, 7298)\t1\n",
      "  (0, 7521)\t1\n",
      "  (0, 7635)\t1\n",
      "  (0, 7788)\t1\n",
      "  (0, 7799)\t3\n",
      "  (0, 7983)\t1\n",
      "  (0, 8470)\t1\n",
      "  (0, 8510)\t1\n",
      "(1, 8856)\n"
     ]
    }
   ],
   "source": [
    "bow4 = bow_transformer.transform([message4])\n",
    "print bow4\n",
    "print bow4.shape"
   ]
  },
  {
   "cell_type": "code",
   "execution_count": 27,
   "metadata": {
    "collapsed": false
   },
   "outputs": [
    {
     "name": "stdout",
     "output_type": "stream",
     "text": [
      "scary\n",
      "ugo\n"
     ]
    }
   ],
   "source": [
    "# So, nine unique words in message nr. 4, two of them appear twice, the rest only once. \n",
    "# lets check what are these words the appear twice?\n",
    "\n",
    "print bow_transformer.get_feature_names()[6736]\n",
    "print bow_transformer.get_feature_names()[8013]"
   ]
  },
  {
   "cell_type": "code",
   "execution_count": 28,
   "metadata": {
    "collapsed": false
   },
   "outputs": [
    {
     "name": "stdout",
     "output_type": "stream",
     "text": [
      "sparse matrix shape: (5575, 8856)\n",
      "number of non-zeros: 80296\n",
      "sparsity: 0.16%\n"
     ]
    }
   ],
   "source": [
    "messages_bow = bow_transformer.transform(messages['message'])\n",
    "print 'sparse matrix shape:', messages_bow.shape\n",
    "print 'number of non-zeros:', messages_bow.nnz\n",
    "print 'sparsity: %.2f%%' % (100.0 * messages_bow.nnz / (messages_bow.shape[0] * messages_bow.shape[1]))"
   ]
  },
  {
   "cell_type": "code",
   "execution_count": 29,
   "metadata": {
    "collapsed": false
   },
   "outputs": [
    {
     "name": "stdout",
     "output_type": "stream",
     "text": [
      "  (0, 8510)\t0.179669605219\n",
      "  (0, 8470)\t0.138220047641\n",
      "  (0, 7983)\t0.118193846426\n",
      "  (0, 7799)\t0.171057289711\n",
      "  (0, 7788)\t0.208201289691\n",
      "  (0, 7635)\t0.112791172603\n",
      "  (0, 7521)\t0.133720066956\n",
      "  (0, 7298)\t0.185464790166\n",
      "  (0, 6397)\t0.157664721917\n",
      "  (0, 6339)\t0.157664721917\n",
      "  (0, 6286)\t0.158417547335\n",
      "  (0, 5018)\t0.148401638785\n",
      "  (0, 4179)\t0.0764281678015\n",
      "  (0, 3433)\t0.109109928158\n",
      "  (0, 3283)\t0.173530433012\n",
      "  (0, 3173)\t0.442935534945\n",
      "  (0, 3042)\t0.339446088525\n",
      "  (0, 2478)\t0.190199801038\n",
      "  (0, 2266)\t0.185464790166\n",
      "  (0, 1900)\t0.119697391163\n",
      "  (0, 1274)\t0.159992008679\n",
      "  (0, 950)\t0.0644135303412\n",
      "  (0, 895)\t0.208201289691\n",
      "  (0, 486)\t0.213996474639\n",
      "  (0, 474)\t0.213996474639\n",
      "  (0, 454)\t0.094462180765\n",
      "  (0, 105)\t0.221467767473\n",
      "  (0, 23)\t0.18267653968\n"
     ]
    }
   ],
   "source": [
    "# And finally, after the counting, the term weighting and normalization \n",
    "# can be done with [TF-IDF] using scikit-learn's `TfidfTransformer`:\n",
    "\n",
    "tfidf_transformer = TfidfTransformer().fit(messages_bow)\n",
    "tfidf4 = tfidf_transformer.transform(bow4)\n",
    "print tfidf4"
   ]
  },
  {
   "cell_type": "code",
   "execution_count": 30,
   "metadata": {
    "collapsed": false
   },
   "outputs": [
    {
     "name": "stdout",
     "output_type": "stream",
     "text": [
      "2.8508608615\n",
      "8.23993259132\n"
     ]
    }
   ],
   "source": [
    "# To check what is the IDF (inverse document frequency) of the word `\"u\"`? Of word `\"university\"`?\n",
    "\n",
    "print tfidf_transformer.idf_[bow_transformer.vocabulary_['u']]\n",
    "print tfidf_transformer.idf_[bow_transformer.vocabulary_['university']]"
   ]
  },
  {
   "cell_type": "code",
   "execution_count": 31,
   "metadata": {
    "collapsed": false
   },
   "outputs": [
    {
     "name": "stdout",
     "output_type": "stream",
     "text": [
      "(5575, 8856)\n"
     ]
    }
   ],
   "source": [
    "# To transform the entire bag-of-words corpus into TF-IDF corpus at once:\n",
    "\n",
    "messages_tfidf = tfidf_transformer.transform(messages_bow)\n",
    "print messages_tfidf.shape"
   ]
  },
  {
   "cell_type": "code",
   "execution_count": 32,
   "metadata": {
    "collapsed": false
   },
   "outputs": [
    {
     "name": "stdout",
     "output_type": "stream",
     "text": [
      "Wall time: 106 ms\n"
     ]
    }
   ],
   "source": [
    "## Training a model\n",
    "# We'll be using scikit-learn here, choosing the [Naive Bayes](http://en.wikipedia.org/wiki/Naive_Bayes_classifier) \n",
    "# classifier to start with:\n",
    "\n",
    "%time spam_detector = MultinomialNB().fit(messages_tfidf, messages['label'])"
   ]
  },
  {
   "cell_type": "code",
   "execution_count": 33,
   "metadata": {
    "collapsed": false
   },
   "outputs": [
    {
     "name": "stdout",
     "output_type": "stream",
     "text": [
      "predicted: spam\n",
      "expected: spam\n"
     ]
    }
   ],
   "source": [
    "# Let's try classifying our single random message:\n",
    "\n",
    "print 'predicted:', spam_detector.predict(tfidf4)[0]\n",
    "print 'expected:', messages.label[3]"
   ]
  },
  {
   "cell_type": "code",
   "execution_count": 34,
   "metadata": {
    "collapsed": false
   },
   "outputs": [
    {
     "name": "stdout",
     "output_type": "stream",
     "text": [
      "['ham' 'ham' 'ham' ..., 'ham' 'ham' 'ham']\n"
     ]
    }
   ],
   "source": [
    "all_predictions = spam_detector.predict(messages_tfidf)\n",
    "print all_predictions"
   ]
  },
  {
   "cell_type": "code",
   "execution_count": 35,
   "metadata": {
    "collapsed": false
   },
   "outputs": [
    {
     "name": "stdout",
     "output_type": "stream",
     "text": [
      "accuracy 0.96932735426\n",
      "confusion matrix\n",
      "[[4827    0    0]\n",
      " [ 170  577    0]\n",
      " [   1    0    0]]\n",
      "(row=expected, col=predicted)\n"
     ]
    },
    {
     "data": {
      "text/plain": [
       "<matplotlib.text.Text at 0x17747668>"
      ]
     },
     "execution_count": 35,
     "metadata": {},
     "output_type": "execute_result"
    },
    {
     "data": {
      "image/png": "[encoded data removed]",
      "text/plain": [
       "<matplotlib.figure.Figure at 0x12ee4c50>"
      ]
     },
     "metadata": {},
     "output_type": "display_data"
    }
   ],
   "source": [
    "## Calculating accuracy and confusion matrix on Training data which will definitely give good accuracy\n",
    "\n",
    "print 'accuracy', accuracy_score(messages['label'], all_predictions)\n",
    "print 'confusion matrix\\n', confusion_matrix(messages['label'], all_predictions)\n",
    "print '(row=expected, col=predicted)'\n",
    "\n",
    "plt.matshow(confusion_matrix(messages['label'], all_predictions), cmap=plt.cm.binary, interpolation='nearest')\n",
    "plt.title('confusion matrix')\n",
    "plt.colorbar()\n",
    "plt.ylabel('expected label')\n",
    "plt.xlabel('predicted label')"
   ]
  },
  {
   "cell_type": "code",
   "execution_count": 36,
   "metadata": {
    "collapsed": false
   },
   "outputs": [
    {
     "name": "stdout",
     "output_type": "stream",
     "text": [
      "             precision    recall  f1-score   support\n",
      "\n",
      "        ham       0.97      1.00      0.98      4827\n",
      "       spam       1.00      0.77      0.87       747\n",
      "       type       0.00      0.00      0.00         1\n",
      "\n",
      "avg / total       0.97      0.97      0.97      5575\n",
      "\n"
     ]
    },
    {
     "name": "stderr",
     "output_type": "stream",
     "text": [
      "C:\\Users\\dell\\Anaconda2\\lib\\site-packages\\sklearn\\metrics\\classification.py:1074: UndefinedMetricWarning: Precision and F-score are ill-defined and being set to 0.0 in labels with no predicted samples.\n",
      "  'precision', 'predicted', average, warn_for)\n"
     ]
    }
   ],
   "source": [
    "print classification_report(messages['label'], all_predictions)"
   ]
  },
  {
   "cell_type": "code",
   "execution_count": 37,
   "metadata": {
    "collapsed": false
   },
   "outputs": [
    {
     "name": "stdout",
     "output_type": "stream",
     "text": [
      "4460 1115 5575\n"
     ]
    }
   ],
   "source": [
    "## splitting the data into training and testing\n",
    "\n",
    "msg_train, msg_test, label_train, label_test = \\\n",
    "    train_test_split(messages['message'], messages['label'], test_size=0.2)\n",
    "\n",
    "print len(msg_train), len(msg_test), len(msg_train) + len(msg_test)"
   ]
  },
  {
   "cell_type": "code",
   "execution_count": null,
   "metadata": {
    "collapsed": false
   },
   "outputs": [],
   "source": [
    "pipeline = Pipeline([\n",
    "    ('bow', CountVectorizer(analyzer=split_into_lemmas)),  # strings to token integer counts\n",
    "    ('tfidf', TfidfTransformer()),  # integer counts to weighted TF-IDF scores\n",
    "    ('classifier', MultinomialNB()),  # train on TF-IDF vectors w/ Naive Bayes classifier\n",
    "])"
   ]
  },
  {
   "cell_type": "code",
   "execution_count": null,
   "metadata": {
    "collapsed": false
   },
   "outputs": [
    {
     "name": "stderr",
     "output_type": "stream",
     "text": [
      "C:\\Users\\dell\\Anaconda2\\lib\\site-packages\\sklearn\\cross_validation.py:516: Warning: The least populated class in y has only 1 members, which is too few. The minimum number of labels for any class cannot be less than n_folds=10.\n",
      "  % (min_labels, self.n_folds)), Warning)\n"
     ]
    }
   ],
   "source": [
    "## Cross Validation\n",
    "\n",
    "# A common practice is to partition the training set again, into smaller subsets; for example, 5 equally sized subsets. \n",
    "# Then we train the model on four parts, and compute accuracy on the last part (called \"validation set\"). \n",
    "# Repeated five times (taking different part for evaluation each time), we get a sense of model \"stability\". \n",
    "# If the model gives wildly different scores for different subsets, it's a sign something is wrong (bad data, or bad model variance). \n",
    "# Go back, analyze errors, re-check input data for garbage, re-check data cleaning.\n",
    "\n",
    "scores = cross_val_score(pipeline,  # steps to convert raw messages into models\n",
    "                         msg_train,  # training data\n",
    "                         label_train,  # training labels\n",
    "                         cv=10,  # split data randomly into 10 parts: 9 for training, 1 for scoring\n",
    "                         scoring='accuracy',  # which scoring metric?\n",
    "                         n_jobs=-1,  # -1 = use all cores = faster\n",
    "                         )\n",
    "print scores"
   ]
  },
  {
   "cell_type": "code",
   "execution_count": null,
   "metadata": {
    "collapsed": false
   },
   "outputs": [],
   "source": [
    "print scores.mean(), scores.std()"
   ]
  },
  {
   "cell_type": "code",
   "execution_count": null,
   "metadata": {
    "collapsed": true
   },
   "outputs": [],
   "source": [
    "def plot_learning_curve(estimator, title, X, y, ylim=None, cv=None,\n",
    "                        n_jobs=-1, train_sizes=np.linspace(.1, 1.0, 5)):\n",
    "    \"\"\"\n",
    "    Generate a simple plot of the test and traning learning curve.\n",
    "\n",
    "    Parameters\n",
    "    ----------\n",
    "    estimator : object type that implements the \"fit\" and \"predict\" methods\n",
    "        An object of that type which is cloned for each validation.\n",
    "\n",
    "    title : string\n",
    "        Title for the chart.\n",
    "\n",
    "    X : array-like, shape (n_samples, n_features)\n",
    "        Training vector, where n_samples is the number of samples and\n",
    "        n_features is the number of features.\n",
    "\n",
    "    y : array-like, shape (n_samples) or (n_samples, n_features), optional\n",
    "        Target relative to X for classification or regression;\n",
    "        None for unsupervised learning.\n",
    "\n",
    "    ylim : tuple, shape (ymin, ymax), optional\n",
    "        Defines minimum and maximum yvalues plotted.\n",
    "\n",
    "    cv : integer, cross-validation generator, optional\n",
    "        If an integer is passed, it is the number of folds (defaults to 3).\n",
    "        Specific cross-validation objects can be passed, see\n",
    "        sklearn.cross_validation module for the list of possible objects\n",
    "\n",
    "    n_jobs : integer, optional\n",
    "        Number of jobs to run in parallel (default 1).\n",
    "    \"\"\"\n",
    "    plt.figure()\n",
    "    plt.title(title)\n",
    "    if ylim is not None:\n",
    "        plt.ylim(*ylim)\n",
    "    plt.xlabel(\"Training examples\")\n",
    "    plt.ylabel(\"Score\")\n",
    "    train_sizes, train_scores, test_scores = learning_curve(\n",
    "        estimator, X, y, cv=cv, n_jobs=n_jobs, train_sizes=train_sizes)\n",
    "    train_scores_mean = np.mean(train_scores, axis=1)\n",
    "    train_scores_std = np.std(train_scores, axis=1)\n",
    "    test_scores_mean = np.mean(test_scores, axis=1)\n",
    "    test_scores_std = np.std(test_scores, axis=1)\n",
    "    plt.grid()\n",
    "\n",
    "    plt.fill_between(train_sizes, train_scores_mean - train_scores_std,\n",
    "                     train_scores_mean + train_scores_std, alpha=0.1,\n",
    "                     color=\"r\")\n",
    "    plt.fill_between(train_sizes, test_scores_mean - test_scores_std,\n",
    "                     test_scores_mean + test_scores_std, alpha=0.1, color=\"g\")\n",
    "    plt.plot(train_sizes, train_scores_mean, 'o-', color=\"r\",\n",
    "             label=\"Training score\")\n",
    "    plt.plot(train_sizes, test_scores_mean, 'o-', color=\"g\",\n",
    "             label=\"Cross-validation score\")\n",
    "\n",
    "    plt.legend(loc=\"best\")\n",
    "    return plt"
   ]
  },
  {
   "cell_type": "code",
   "execution_count": null,
   "metadata": {
    "collapsed": false
   },
   "outputs": [],
   "source": [
    "%time plot_learning_curve(pipeline, \"accuracy vs. training set size\", msg_train, label_train, cv=5)"
   ]
  },
  {
   "cell_type": "code",
   "execution_count": null,
   "metadata": {
    "collapsed": false
   },
   "outputs": [],
   "source": [
    "# At this point, we have two options:\n",
    "\n",
    "# 1. use more training data, to overcome low model complexity\n",
    "# 2. use a more complex (lower bias) model to start with, to get more out of the existing data\n",
    "\n",
    "params = {\n",
    "    'tfidf__use_idf': (True, False),\n",
    "    'bow__analyzer': (split_into_lemmas, split_into_tokens),\n",
    "}\n",
    "\n",
    "grid = GridSearchCV(\n",
    "    pipeline,  # pipeline from above\n",
    "    params,  # parameters to tune via cross validation\n",
    "    refit=True,  # fit using all available data at the end, on the best found param combination\n",
    "    n_jobs=-1,  # number of cores to use for parallelization; -1 for \"all cores\"\n",
    "    scoring='accuracy',  # what score are we optimizing?\n",
    "    cv=StratifiedKFold(label_train, n_folds=5),  # what type of cross validation to use\n",
    ")\n",
    "\n"
   ]
  },
  {
   "cell_type": "code",
   "execution_count": null,
   "metadata": {
    "collapsed": false
   },
   "outputs": [],
   "source": [
    "%time nb_detector = grid.fit(msg_train, label_train)\n",
    "print nb_detector.grid_scores_"
   ]
  },
  {
   "cell_type": "code",
   "execution_count": null,
   "metadata": {
    "collapsed": false
   },
   "outputs": [],
   "source": [
    "print nb_detector.predict_proba([\"Hi mom, how are you?\"])[0]\n",
    "print nb_detector.predict_proba([\"WINNER! Credit for free!\"])[0]"
   ]
  },
  {
   "cell_type": "code",
   "execution_count": null,
   "metadata": {
    "collapsed": false
   },
   "outputs": [],
   "source": [
    "print nb_detector.predict([\"Hi mom, how are you?\"])[0]\n",
    "print nb_detector.predict([\"WINNER! Credit for free!\"])[0]"
   ]
  },
  {
   "cell_type": "code",
   "execution_count": null,
   "metadata": {
    "collapsed": false
   },
   "outputs": [],
   "source": [
    "# And overall scores on the test set, the one we haven't used at all during training\n",
    "\n",
    "predictions = nb_detector.predict(msg_test)\n",
    "print confusion_matrix(label_test, predictions)\n",
    "print classification_report(label_test, predictions)"
   ]
  },
  {
   "cell_type": "code",
   "execution_count": null,
   "metadata": {
    "collapsed": false
   },
   "outputs": [],
   "source": [
    "#############################################################################################################\n",
    "\n",
    "################## SVM #########################################\n",
    "\n",
    "pipeline_svm = Pipeline([\n",
    "    ('bow', CountVectorizer(analyzer=split_into_lemmas)),\n",
    "    ('tfidf', TfidfTransformer()),\n",
    "    ('classifier', SVC()),  # <== change here\n",
    "])\n",
    "\n",
    "# pipeline parameters to automatically explore and tune\n",
    "param_svm = [\n",
    "  {'classifier__C': [1, 10, 100, 1000], 'classifier__kernel': ['linear']},\n",
    "  {'classifier__C': [1, 10, 100, 1000], 'classifier__gamma': [0.001, 0.0001], 'classifier__kernel': ['rbf']},\n",
    "]\n",
    "\n",
    "grid_svm = GridSearchCV(\n",
    "    pipeline_svm,  # pipeline from above\n",
    "    param_grid=param_svm,  # parameters to tune via cross validation\n",
    "    refit=True,  # fit using all data, on the best detected classifier\n",
    "    n_jobs=-1,  # number of cores to use for parallelization; -1 for \"all cores\"\n",
    "    scoring='accuracy',  # what score are we optimizing?\n",
    "    cv=StratifiedKFold(label_train, n_folds=5),  # what type of cross validation to use\n",
    ")"
   ]
  },
  {
   "cell_type": "code",
   "execution_count": null,
   "metadata": {
    "collapsed": false
   },
   "outputs": [],
   "source": [
    "%time svm_detector = grid_svm.fit(msg_train, label_train) # find the best combination from param_svm\n",
    "print svm_detector.grid_scores_"
   ]
  },
  {
   "cell_type": "code",
   "execution_count": null,
   "metadata": {
    "collapsed": false
   },
   "outputs": [],
   "source": [
    "print svm_detector.predict([\"Hi mom, how are you?\"])[0]\n",
    "print svm_detector.predict([\"WINNER! Credit for free!\"])[0]"
   ]
  },
  {
   "cell_type": "code",
   "execution_count": null,
   "metadata": {
    "collapsed": false
   },
   "outputs": [],
   "source": [
    "print confusion_matrix(label_test, svm_detector.predict(msg_test))\n",
    "print classification_report(label_test, svm_detector.predict(msg_test))"
   ]
  },
  {
   "cell_type": "code",
   "execution_count": null,
   "metadata": {
    "collapsed": false
   },
   "outputs": [],
   "source": [
    "print confusion_matrix(label_test, svm_detector.predict(msg_test))\n",
    "print classification_report(label_test, svm_detector.predict(msg_test))"
   ]
  },
  {
   "cell_type": "code",
   "execution_count": null,
   "metadata": {
    "collapsed": false
   },
   "outputs": [],
   "source": [
    "## Productionalizing a predictor\n",
    "\n",
    "# store the spam detector to disk after training\n",
    "with open('sms_spam_detector.pkl', 'wb') as fout:\n",
    "    cPickle.dump(svm_detector, fout)\n",
    "\n",
    "# ...and load it back, whenever needed, possibly on a different machine\n",
    "svm_detector_reloaded = cPickle.load(open('sms_spam_detector.pkl'))"
   ]
  },
  {
   "cell_type": "code",
   "execution_count": null,
   "metadata": {
    "collapsed": true
   },
   "outputs": [],
   "source": [
    "print 'before:', svm_detector.predict([message4])[0]\n",
    "print 'after:', svm_detector_reloaded.predict([message4])[0]"
   ]
  }
 ],
 "metadata": {
  "anaconda-cloud": {},
  "kernelspec": {
   "display_name": "Python [Root]",
   "language": "python",
   "name": "Python [Root]"
  },
  "language_info": {
   "codemirror_mode": {
    "name": "ipython",
    "version": 2
   },
   "file_extension": ".py",
   "mimetype": "text/x-python",
   "name": "python",
   "nbconvert_exporter": "python",
   "pygments_lexer": "ipython2",
   "version": "2.7.11"
  }
 },
 "nbformat": 4,
 "nbformat_minor": 0
}
